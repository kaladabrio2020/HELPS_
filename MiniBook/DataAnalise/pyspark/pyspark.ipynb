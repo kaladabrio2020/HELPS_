{
 "cells": [
  {
   "cell_type": "markdown",
   "id": "7b62b7d9",
   "metadata": {},
   "source": [
    "### Pyspark particionamento"
   ]
  },
  {
   "cell_type": "markdown",
   "id": "fba4d04e",
   "metadata": {},
   "source": [
    "Particionamento é o processo de dividir os dados em blocos menores (partições) que podem ser processados em paralelo por diferentes workers do cluster. No Spark, cada partição é processada por uma tarefa (task)."
   ]
  },
  {
   "cell_type": "code",
   "execution_count": 1,
   "id": "1e1ce85c",
   "metadata": {},
   "outputs": [
    {
     "data": {
      "text/plain": [
       "8"
      ]
     },
     "execution_count": 1,
     "metadata": {},
     "output_type": "execute_result"
    }
   ],
   "source": [
    "import multiprocessing\n",
    "multiprocessing.cpu_count()"
   ]
  },
  {
   "cell_type": "markdown",
   "id": "576dd052",
   "metadata": {},
   "source": [
    "> Saber quantos núcleos de CPU você tem é essencial pra definir um bom número de partições no Spark"
   ]
  },
  {
   "cell_type": "code",
   "execution_count": 2,
   "id": "3f36e2cd",
   "metadata": {},
   "outputs": [],
   "source": [
    "from pyspark.sql import SparkSession\n",
    "from pyspark.sql import functions as F\n",
    "from pyspark.sql.types import StructType, StructField, StringType, IntegerType"
   ]
  },
  {
   "cell_type": "code",
   "execution_count": 3,
   "id": "f83a2336",
   "metadata": {},
   "outputs": [],
   "source": [
    "spark = SparkSession\\\n",
    "            .builder\\\n",
    "            .appName(\"particao\")\\\n",
    "            .master(\"local[8]\")\\\n",
    "            .getOrCreate()"
   ]
  },
  {
   "cell_type": "code",
   "execution_count": 4,
   "id": "98aff366",
   "metadata": {},
   "outputs": [
    {
     "data": {
      "text/html": [
       "\n",
       "            <div>\n",
       "                <p><b>SparkSession - in-memory</b></p>\n",
       "                \n",
       "        <div>\n",
       "            <p><b>SparkContext</b></p>\n",
       "\n",
       "            <p><a href=\"http://mateus-win:4040\">Spark UI</a></p>\n",
       "\n",
       "            <dl>\n",
       "              <dt>Version</dt>\n",
       "                <dd><code>v3.5.4</code></dd>\n",
       "              <dt>Master</dt>\n",
       "                <dd><code>local[8]</code></dd>\n",
       "              <dt>AppName</dt>\n",
       "                <dd><code>particao</code></dd>\n",
       "            </dl>\n",
       "        </div>\n",
       "        \n",
       "            </div>\n",
       "        "
      ],
      "text/plain": [
       "<pyspark.sql.session.SparkSession at 0x1f56669cb60>"
      ]
     },
     "execution_count": 4,
     "metadata": {},
     "output_type": "execute_result"
    }
   ],
   "source": [
    "spark"
   ]
  },
  {
   "cell_type": "code",
   "execution_count": 5,
   "id": "11989775",
   "metadata": {},
   "outputs": [
    {
     "data": {
      "text/plain": [
       "8"
      ]
     },
     "execution_count": 5,
     "metadata": {},
     "output_type": "execute_result"
    }
   ],
   "source": [
    "spark.sparkContext.defaultParallelism"
   ]
  },
  {
   "cell_type": "markdown",
   "id": "bc60acd6",
   "metadata": {},
   "source": [
    "> **defaultParallelism** : Retorna o número padrão de tarefas em paralelo, geralmente igual ao número de núcleos quando local[*] é usado"
   ]
  },
  {
   "cell_type": "markdown",
   "id": "afa90c92",
   "metadata": {},
   "source": [
    "Lendo o arquivo no spark"
   ]
  },
  {
   "cell_type": "markdown",
   "id": "3a076fed",
   "metadata": {},
   "source": [
    "```python\n",
    "\n",
    "\n",
    "dict_ = dict(\n",
    "    header='True',\n",
    "    inferSchema='True'\n",
    ")\n",
    "# Aqui pode definir o typo de cada dados\n",
    "schema = StructType([\n",
    "    StructField(name = 'id', dataType = IntegerType(), nullable = True),\n",
    "    StructField(name = 'sexo', dataType = StringType(), nullable = True),\n",
    "    StructField(name = 'idade', dataType = IntegerType(), nullable = True),\n",
    "    StructField(name = 'diabetes', dataType = IntegerType(), nullable = True),\n",
    "])\n",
    "\n",
    "data = spark.read\\\n",
    "        .options(**dict_)\\\n",
    "        .format('csv')\\\n",
    "        .load(path)\n",
    "```"
   ]
  },
  {
   "cell_type": "code",
   "execution_count": 6,
   "id": "b5362726",
   "metadata": {},
   "outputs": [],
   "source": [
    "path = 'C:\\\\Users\\\\mateu\\\\Documents\\\\MEGA\\\\Projetos\\\\HELPS\\\\MiniBook\\\\DataAnalise\\\\dataset\\\\dados.csv'"
   ]
  },
  {
   "cell_type": "code",
   "execution_count": 7,
   "id": "7bb5804f",
   "metadata": {},
   "outputs": [],
   "source": [
    "dict_ = dict(\n",
    "    header='True',\n",
    "    inferSchema='True'\n",
    ")\n",
    "data = spark.read.options(**dict_)\\\n",
    "        .format('csv')\\\n",
    "        .load(path)"
   ]
  },
  {
   "cell_type": "code",
   "execution_count": 8,
   "id": "39d32257",
   "metadata": {},
   "outputs": [
    {
     "name": "stdout",
     "output_type": "stream",
     "text": [
      "+----------+----+--------------------+-----+-----+-------+--------+----------+\n",
      "|        id| ano|                nome|preço|prime|empresa|desconto|    estado|\n",
      "+----------+----+--------------------+-----+-----+-------+--------+----------+\n",
      "|9001763654|1973|       Evelyn Fogaça| 3587|false| nissan|    0.05|   Alagoas|\n",
      "|8096557597|2002|Sr. Davi Lucca Re...| 1289|false| nissin|     0.0|Pernambuco|\n",
      "|6451624339|2007|     Matheus Freitas| 1343|false| toyota|    0.05|     Piauí|\n",
      "|2421207048|1998|Sr. Marcos Vinici...| 4538|false| nissan|     0.1| São Paulo|\n",
      "+----------+----+--------------------+-----+-----+-------+--------+----------+\n",
      "only showing top 4 rows\n",
      "\n"
     ]
    }
   ],
   "source": [
    "data.show(4)"
   ]
  },
  {
   "cell_type": "markdown",
   "id": "487b3efe",
   "metadata": {},
   "source": [
    "Saber o numero de partições no meu dataframe"
   ]
  },
  {
   "cell_type": "code",
   "execution_count": 9,
   "id": "62291687",
   "metadata": {},
   "outputs": [
    {
     "data": {
      "text/plain": [
       "8"
      ]
     },
     "execution_count": 9,
     "metadata": {},
     "output_type": "execute_result"
    }
   ],
   "source": [
    "data.rdd.getNumPartitions()"
   ]
  },
  {
   "cell_type": "markdown",
   "id": "33c46122",
   "metadata": {},
   "source": [
    "Saber que repartição pertence a aquela instancia"
   ]
  },
  {
   "cell_type": "code",
   "execution_count": 10,
   "id": "f2955670",
   "metadata": {},
   "outputs": [
    {
     "name": "stdout",
     "output_type": "stream",
     "text": [
      "+-----+\n",
      "|prime|\n",
      "+-----+\n",
      "|    0|\n",
      "|    1|\n",
      "|    2|\n",
      "|    3|\n",
      "|    4|\n",
      "|    5|\n",
      "|    6|\n",
      "|    7|\n",
      "+-----+\n",
      "\n"
     ]
    }
   ],
   "source": [
    "data.withColumn('prime', F.spark_partition_id()).select(F.col('prime')).distinct().show()"
   ]
  },
  {
   "cell_type": "markdown",
   "id": "03c1d028",
   "metadata": {},
   "source": [
    "### Operações no Pyspark"
   ]
  },
  {
   "cell_type": "markdown",
   "id": "b45843c3",
   "metadata": {},
   "source": [
    "`Select`"
   ]
  },
  {
   "cell_type": "code",
   "execution_count": 11,
   "id": "756faf1b",
   "metadata": {},
   "outputs": [
    {
     "name": "stdout",
     "output_type": "stream",
     "text": [
      "+-------+\n",
      "|empresa|\n",
      "+-------+\n",
      "| nissan|\n",
      "| nissin|\n",
      "+-------+\n",
      "only showing top 2 rows\n",
      "\n"
     ]
    }
   ],
   "source": [
    "data.select(F.col('empresa')).show(2)"
   ]
  },
  {
   "cell_type": "markdown",
   "id": "6ef0ee8a",
   "metadata": {},
   "source": [
    "`where`"
   ]
  },
  {
   "cell_type": "code",
   "execution_count": 12,
   "id": "91d5bc93",
   "metadata": {},
   "outputs": [
    {
     "name": "stdout",
     "output_type": "stream",
     "text": [
      "+----------+----+--------------------+-----+-----+-------+--------+----------+\n",
      "|        id| ano|                nome|preço|prime|empresa|desconto|    estado|\n",
      "+----------+----+--------------------+-----+-----+-------+--------+----------+\n",
      "|9001763654|1973|       Evelyn Fogaça| 3587|false| nissan|    0.05|   Alagoas|\n",
      "|8096557597|2002|Sr. Davi Lucca Re...| 1289|false| nissin|     0.0|Pernambuco|\n",
      "|2421207048|1998|Sr. Marcos Vinici...| 4538|false| nissan|     0.1| São Paulo|\n",
      "+----------+----+--------------------+-----+-----+-------+--------+----------+\n",
      "only showing top 3 rows\n",
      "\n"
     ]
    }
   ],
   "source": [
    "data.where(\n",
    "    F.col('empresa').like('%i%')\n",
    ").show(3)"
   ]
  },
  {
   "cell_type": "code",
   "execution_count": 13,
   "id": "714bb9b6",
   "metadata": {},
   "outputs": [
    {
     "name": "stdout",
     "output_type": "stream",
     "text": [
      "+----------+----+--------------------+-----+-----+-------+--------+----------------+\n",
      "|        id| ano|                nome|preço|prime|empresa|desconto|          estado|\n",
      "+----------+----+--------------------+-----+-----+-------+--------+----------------+\n",
      "|6107140111|2017|   João Lucas da Luz| 1519| true| nissin|    0.05|  Espírito Santo|\n",
      "|7646075356|1986|     Beatriz da Cruz| 1745| true| nissan|    0.05|  Santa Catarina|\n",
      "|6987763002|2002|Dra. Pietra Gonça...| 3031| true| nissin|     0.0|Distrito Federal|\n",
      "+----------+----+--------------------+-----+-----+-------+--------+----------------+\n",
      "only showing top 3 rows\n",
      "\n"
     ]
    }
   ],
   "source": [
    "data.where(\n",
    "    F.col('empresa').like('%i%') &\n",
    "    F.col('prime') == 'true'\n",
    ").show(3)\n"
   ]
  },
  {
   "cell_type": "code",
   "execution_count": 14,
   "id": "9cfecc3c",
   "metadata": {},
   "outputs": [
    {
     "name": "stdout",
     "output_type": "stream",
     "text": [
      "+----------+----+--------------------+-----+-----+-------+--------+----------+\n",
      "|        id| ano|                nome|preço|prime|empresa|desconto|    estado|\n",
      "+----------+----+--------------------+-----+-----+-------+--------+----------+\n",
      "|9001763654|1973|       Evelyn Fogaça| 3587|false| nissan|    0.05|   Alagoas|\n",
      "|8096557597|2002|Sr. Davi Lucca Re...| 1289|false| nissin|     0.0|Pernambuco|\n",
      "|6451624339|2007|     Matheus Freitas| 1343|false| toyota|    0.05|     Piauí|\n",
      "+----------+----+--------------------+-----+-----+-------+--------+----------+\n",
      "only showing top 3 rows\n",
      "\n"
     ]
    }
   ],
   "source": [
    "data.where(\n",
    "    F.col('empresa').like('%i%') |\n",
    "    F.col('empresa').like('%toyota%')\n",
    ").show(3)"
   ]
  },
  {
   "cell_type": "markdown",
   "id": "2b6c55ee",
   "metadata": {},
   "source": [
    "`agrupamento`"
   ]
  },
  {
   "cell_type": "code",
   "execution_count": 15,
   "id": "8f0dd5da",
   "metadata": {},
   "outputs": [
    {
     "name": "stdout",
     "output_type": "stream",
     "text": [
      "+--------+-------+\n",
      "| empresa|  count|\n",
      "+--------+-------+\n",
      "|  nissin|2498159|\n",
      "|  toyota|2498563|\n",
      "|brastemp|2502791|\n",
      "|  nissan|2500487|\n",
      "+--------+-------+\n",
      "\n"
     ]
    }
   ],
   "source": [
    "data.groupBy(F.col('empresa')).count().show()"
   ]
  },
  {
   "cell_type": "code",
   "execution_count": 16,
   "id": "4277eced",
   "metadata": {},
   "outputs": [
    {
     "name": "stdout",
     "output_type": "stream",
     "text": [
      "+-----+-----------+------------------+-----+-----+------------------+\n",
      "|prime|      total|             media|maior|menor|            desvio|\n",
      "+-----+-----------+------------------+-----+-----+------------------+\n",
      "| true| 7497538684|2999.1978248277496| 4999| 1000|1155.0704546123302|\n",
      "|false|22497528263|2999.6096429779022| 4999| 1000|1154.9842401628714|\n",
      "+-----+-----------+------------------+-----+-----+------------------+\n",
      "\n"
     ]
    }
   ],
   "source": [
    "data.groupBy(F.col('prime'))\\\n",
    "    .agg(\n",
    "        F.sum(F.col('preço')).alias('total'),\\\n",
    "        F.avg(F.col('preço')).alias('media'),\\\n",
    "        F.max(F.col('preço')).alias('maior'),\\\n",
    "        F.min(F.col('preço')).alias('menor'),\\\n",
    "        F.stddev(F.col('preço')).alias('desvio')\n",
    "    ).show()"
   ]
  },
  {
   "cell_type": "code",
   "execution_count": 17,
   "id": "a7244ed3",
   "metadata": {},
   "outputs": [
    {
     "name": "stdout",
     "output_type": "stream",
     "text": [
      "+-----+--------+-------+\n",
      "|prime| empresa|  count|\n",
      "+-----+--------+-------+\n",
      "| true|  nissin| 624952|\n",
      "| true|  toyota| 623958|\n",
      "| true|  nissan| 624815|\n",
      "|false|  nissan|1875672|\n",
      "|false|  nissin|1873207|\n",
      "|false|  toyota|1874605|\n",
      "| true|brastemp| 626123|\n",
      "|false|brastemp|1876668|\n",
      "+-----+--------+-------+\n",
      "\n"
     ]
    }
   ],
   "source": [
    "data.groupBy(F.col('prime'), F.col('empresa')).count().show()"
   ]
  },
  {
   "cell_type": "code",
   "execution_count": 18,
   "id": "1f1213a9",
   "metadata": {},
   "outputs": [
    {
     "name": "stdout",
     "output_type": "stream",
     "text": [
      "+----------+----+--------------------+-----+-----+-------+--------+----------+\n",
      "|        id| ano|                nome|preço|prime|empresa|desconto|    estado|\n",
      "+----------+----+--------------------+-----+-----+-------+--------+----------+\n",
      "|9001763654|1973|       Evelyn Fogaça| 3587|false| nissan|    0.05|   Alagoas|\n",
      "|8096557597|2002|Sr. Davi Lucca Re...| 1289|false| nissin|     0.0|Pernambuco|\n",
      "|6451624339|2007|     Matheus Freitas| 1343|false| toyota|    0.05|     Piauí|\n",
      "+----------+----+--------------------+-----+-----+-------+--------+----------+\n",
      "only showing top 3 rows\n",
      "\n"
     ]
    }
   ],
   "source": [
    "data.show(3)"
   ]
  },
  {
   "cell_type": "markdown",
   "id": "8f36f95c",
   "metadata": {},
   "source": [
    "`withColumns`"
   ]
  },
  {
   "cell_type": "code",
   "execution_count": 19,
   "id": "bcb8f775",
   "metadata": {},
   "outputs": [
    {
     "name": "stdout",
     "output_type": "stream",
     "text": [
      "+-------+----------+------------------+\n",
      "|empresa|    estado|          desconto|\n",
      "+-------+----------+------------------+\n",
      "|    nis|   Alagoas|179.35000000000002|\n",
      "|    nis|Pernambuco|               0.0|\n",
      "|    toy|     Piauí|             67.15|\n",
      "+-------+----------+------------------+\n",
      "only showing top 3 rows\n",
      "\n"
     ]
    }
   ],
   "source": [
    "data.withColumns(\n",
    "    dict(\n",
    "        empresa=F.col('empresa').substr(1, 3),\n",
    "        cidade =F.col('estado').substr(1, 3),\n",
    "        desconto = F.col('preço') * F.col('desconto')\n",
    "    )\n",
    ")\\\n",
    "    .select(['empresa', 'estado', 'desconto'])\\\n",
    "        .show(3)"
   ]
  },
  {
   "cell_type": "markdown",
   "id": "d3c0598b",
   "metadata": {},
   "source": [
    "`case`"
   ]
  },
  {
   "cell_type": "code",
   "execution_count": 20,
   "id": "a6251d54",
   "metadata": {},
   "outputs": [
    {
     "name": "stdout",
     "output_type": "stream",
     "text": [
      "+-----------------------------------------------------+\n",
      "|CASE WHEN (prime = true) THEN primeiro ELSE outro END|\n",
      "+-----------------------------------------------------+\n",
      "|                                                outro|\n",
      "|                                             primeiro|\n",
      "+-----------------------------------------------------+\n",
      "\n"
     ]
    }
   ],
   "source": [
    "data.select(\n",
    "    F.when(F.col('prime') == 'true', 'primeiro').otherwise('outro')\n",
    ").distinct().show(3)"
   ]
  },
  {
   "cell_type": "code",
   "execution_count": 24,
   "id": "6c7bc860",
   "metadata": {},
   "outputs": [
    {
     "name": "stdout",
     "output_type": "stream",
     "text": [
      "+--------+------------------+\n",
      "| empresa|        avg(preço)|\n",
      "+--------+------------------+\n",
      "|  nissin|  2999.59639398453|\n",
      "|  toyota| 3000.252134927156|\n",
      "|brastemp|2998.4004825013353|\n",
      "|  nissan|2999.7794437643547|\n",
      "+--------+------------------+\n",
      "\n"
     ]
    }
   ],
   "source": [
    "data.groupBy(F.col('empresa')).mean('preço').show()"
   ]
  },
  {
   "cell_type": "code",
   "execution_count": null,
   "id": "54a027e8",
   "metadata": {},
   "outputs": [],
   "source": []
  }
 ],
 "metadata": {
  "kernelspec": {
   "display_name": "Python 3",
   "language": "python",
   "name": "python3"
  },
  "language_info": {
   "codemirror_mode": {
    "name": "ipython",
    "version": 3
   },
   "file_extension": ".py",
   "mimetype": "text/x-python",
   "name": "python",
   "nbconvert_exporter": "python",
   "pygments_lexer": "ipython3",
   "version": "3.12.7"
  }
 },
 "nbformat": 4,
 "nbformat_minor": 5
}
